{
  "nbformat": 4,
  "nbformat_minor": 0,
  "metadata": {
    "colab": {
      "name": "aprendizagem-bayesiana.ipynb",
      "provenance": [],
      "authorship_tag": "ABX9TyNGpN9vmWQQDN733mtvVwzO",
      "include_colab_link": true
    },
    "kernelspec": {
      "name": "python3",
      "display_name": "Python 3"
    },
    "language_info": {
      "name": "python"
    }
  },
  "cells": [
    {
      "cell_type": "markdown",
      "metadata": {
        "id": "view-in-github",
        "colab_type": "text"
      },
      "source": [
        "<a href=\"https://colab.research.google.com/github/WMFrts/aprendizagem-bayesiana/blob/main/aprendizagem_bayesiana.ipynb\" target=\"_parent\"><img src=\"https://colab.research.google.com/assets/colab-badge.svg\" alt=\"Open In Colab\"/></a>"
      ]
    },
    {
      "cell_type": "markdown",
      "source": [
        "<h2><center>APRENDIZAGEM BAYESIANA</center></h2>\n",
        "\n",
        "\n",
        "<hr size=\"1\" width=\"100%\" align=\"center\" noshade>\n",
        "\n",
        "\n",
        "\n",
        "<p align = 'JUSTIFY'>O aprendizado bayesiano é do tipo supervisionado, já que são fornecidas ao algoritmo de aprendizado de máquina as instâncias juntamente com seus rótulos (ou seja, as classes). Seguindo o paradigma estatístico, o algoritmo faz uso de fórmulas estatísticas e cálculo de probabilidades para realizar a classificação (Mitchell, 1997). </p>\n"
      ],
      "metadata": {
        "id": "dC7n9i8CLNnU"
      }
    },
    {
      "cell_type": "code",
      "source": [
        "!pip install plotly"
      ],
      "metadata": {
        "id": "n3C1k6VFcKz8"
      },
      "execution_count": null,
      "outputs": []
    },
    {
      "cell_type": "code",
      "execution_count": null,
      "metadata": {
        "id": "DRimlOJVbSNf"
      },
      "outputs": [],
      "source": [
        "# Importação de Bibliotecas\n",
        "\n",
        "import pandas as pd\n",
        "import numpy as np \n",
        "from sklearn.naive_bayes import GaussianNB"
      ]
    },
    {
      "cell_type": "code",
      "source": [
        "# Criação de variável que recebe pd (já importado) com a função de leitura \n",
        "#do arquivo, read_csv\n",
        "\n",
        "base_risco_credito = pd.read_csv('/content/risco_credito.csv')"
      ],
      "metadata": {
        "id": "4lovs5MYcOgT"
      },
      "execution_count": null,
      "outputs": []
    },
    {
      "cell_type": "code",
      "source": [
        "# Com base nos quatro previsores - história, dívida, garantias e renda - \n",
        "#o objetivo é prever o risco de conceder um empréstimo a um determinado cliente\n",
        "\n",
        "base_risco_credito"
      ],
      "metadata": {
        "colab": {
          "base_uri": "https://localhost:8080/",
          "height": 488
        },
        "id": "LcIBjxNEc14e",
        "outputId": "22f6d29b-3fd2-408d-8aea-8c0def782b3e"
      },
      "execution_count": null,
      "outputs": [
        {
          "output_type": "execute_result",
          "data": {
            "text/html": [
              "\n",
              "  <div id=\"df-592c731d-c780-498e-9b34-3d49861ea822\">\n",
              "    <div class=\"colab-df-container\">\n",
              "      <div>\n",
              "<style scoped>\n",
              "    .dataframe tbody tr th:only-of-type {\n",
              "        vertical-align: middle;\n",
              "    }\n",
              "\n",
              "    .dataframe tbody tr th {\n",
              "        vertical-align: top;\n",
              "    }\n",
              "\n",
              "    .dataframe thead th {\n",
              "        text-align: right;\n",
              "    }\n",
              "</style>\n",
              "<table border=\"1\" class=\"dataframe\">\n",
              "  <thead>\n",
              "    <tr style=\"text-align: right;\">\n",
              "      <th></th>\n",
              "      <th>historia</th>\n",
              "      <th>divida</th>\n",
              "      <th>garantias</th>\n",
              "      <th>renda</th>\n",
              "      <th>risco</th>\n",
              "    </tr>\n",
              "  </thead>\n",
              "  <tbody>\n",
              "    <tr>\n",
              "      <th>0</th>\n",
              "      <td>ruim</td>\n",
              "      <td>alta</td>\n",
              "      <td>nenhuma</td>\n",
              "      <td>0_15</td>\n",
              "      <td>alto</td>\n",
              "    </tr>\n",
              "    <tr>\n",
              "      <th>1</th>\n",
              "      <td>desconhecida</td>\n",
              "      <td>alta</td>\n",
              "      <td>nenhuma</td>\n",
              "      <td>15_35</td>\n",
              "      <td>alto</td>\n",
              "    </tr>\n",
              "    <tr>\n",
              "      <th>2</th>\n",
              "      <td>desconhecida</td>\n",
              "      <td>baixa</td>\n",
              "      <td>nenhuma</td>\n",
              "      <td>15_35</td>\n",
              "      <td>moderado</td>\n",
              "    </tr>\n",
              "    <tr>\n",
              "      <th>3</th>\n",
              "      <td>desconhecida</td>\n",
              "      <td>baixa</td>\n",
              "      <td>nenhuma</td>\n",
              "      <td>acima_35</td>\n",
              "      <td>alto</td>\n",
              "    </tr>\n",
              "    <tr>\n",
              "      <th>4</th>\n",
              "      <td>desconhecida</td>\n",
              "      <td>baixa</td>\n",
              "      <td>nenhuma</td>\n",
              "      <td>acima_35</td>\n",
              "      <td>baixo</td>\n",
              "    </tr>\n",
              "    <tr>\n",
              "      <th>5</th>\n",
              "      <td>desconhecida</td>\n",
              "      <td>baixa</td>\n",
              "      <td>adequada</td>\n",
              "      <td>acima_35</td>\n",
              "      <td>baixo</td>\n",
              "    </tr>\n",
              "    <tr>\n",
              "      <th>6</th>\n",
              "      <td>ruim</td>\n",
              "      <td>baixa</td>\n",
              "      <td>nenhuma</td>\n",
              "      <td>0_15</td>\n",
              "      <td>alto</td>\n",
              "    </tr>\n",
              "    <tr>\n",
              "      <th>7</th>\n",
              "      <td>ruim</td>\n",
              "      <td>baixa</td>\n",
              "      <td>adequada</td>\n",
              "      <td>acima_35</td>\n",
              "      <td>moderado</td>\n",
              "    </tr>\n",
              "    <tr>\n",
              "      <th>8</th>\n",
              "      <td>boa</td>\n",
              "      <td>baixa</td>\n",
              "      <td>nenhuma</td>\n",
              "      <td>acima_35</td>\n",
              "      <td>baixo</td>\n",
              "    </tr>\n",
              "    <tr>\n",
              "      <th>9</th>\n",
              "      <td>boa</td>\n",
              "      <td>alta</td>\n",
              "      <td>adequada</td>\n",
              "      <td>acima_35</td>\n",
              "      <td>baixo</td>\n",
              "    </tr>\n",
              "    <tr>\n",
              "      <th>10</th>\n",
              "      <td>boa</td>\n",
              "      <td>alta</td>\n",
              "      <td>nenhuma</td>\n",
              "      <td>0_15</td>\n",
              "      <td>alto</td>\n",
              "    </tr>\n",
              "    <tr>\n",
              "      <th>11</th>\n",
              "      <td>boa</td>\n",
              "      <td>alta</td>\n",
              "      <td>nenhuma</td>\n",
              "      <td>15_35</td>\n",
              "      <td>moderado</td>\n",
              "    </tr>\n",
              "    <tr>\n",
              "      <th>12</th>\n",
              "      <td>boa</td>\n",
              "      <td>alta</td>\n",
              "      <td>nenhuma</td>\n",
              "      <td>acima_35</td>\n",
              "      <td>baixo</td>\n",
              "    </tr>\n",
              "    <tr>\n",
              "      <th>13</th>\n",
              "      <td>ruim</td>\n",
              "      <td>alta</td>\n",
              "      <td>nenhuma</td>\n",
              "      <td>15_35</td>\n",
              "      <td>alto</td>\n",
              "    </tr>\n",
              "  </tbody>\n",
              "</table>\n",
              "</div>\n",
              "      <button class=\"colab-df-convert\" onclick=\"convertToInteractive('df-592c731d-c780-498e-9b34-3d49861ea822')\"\n",
              "              title=\"Convert this dataframe to an interactive table.\"\n",
              "              style=\"display:none;\">\n",
              "        \n",
              "  <svg xmlns=\"http://www.w3.org/2000/svg\" height=\"24px\"viewBox=\"0 0 24 24\"\n",
              "       width=\"24px\">\n",
              "    <path d=\"M0 0h24v24H0V0z\" fill=\"none\"/>\n",
              "    <path d=\"M18.56 5.44l.94 2.06.94-2.06 2.06-.94-2.06-.94-.94-2.06-.94 2.06-2.06.94zm-11 1L8.5 8.5l.94-2.06 2.06-.94-2.06-.94L8.5 2.5l-.94 2.06-2.06.94zm10 10l.94 2.06.94-2.06 2.06-.94-2.06-.94-.94-2.06-.94 2.06-2.06.94z\"/><path d=\"M17.41 7.96l-1.37-1.37c-.4-.4-.92-.59-1.43-.59-.52 0-1.04.2-1.43.59L10.3 9.45l-7.72 7.72c-.78.78-.78 2.05 0 2.83L4 21.41c.39.39.9.59 1.41.59.51 0 1.02-.2 1.41-.59l7.78-7.78 2.81-2.81c.8-.78.8-2.07 0-2.86zM5.41 20L4 18.59l7.72-7.72 1.47 1.35L5.41 20z\"/>\n",
              "  </svg>\n",
              "      </button>\n",
              "      \n",
              "  <style>\n",
              "    .colab-df-container {\n",
              "      display:flex;\n",
              "      flex-wrap:wrap;\n",
              "      gap: 12px;\n",
              "    }\n",
              "\n",
              "    .colab-df-convert {\n",
              "      background-color: #E8F0FE;\n",
              "      border: none;\n",
              "      border-radius: 50%;\n",
              "      cursor: pointer;\n",
              "      display: none;\n",
              "      fill: #1967D2;\n",
              "      height: 32px;\n",
              "      padding: 0 0 0 0;\n",
              "      width: 32px;\n",
              "    }\n",
              "\n",
              "    .colab-df-convert:hover {\n",
              "      background-color: #E2EBFA;\n",
              "      box-shadow: 0px 1px 2px rgba(60, 64, 67, 0.3), 0px 1px 3px 1px rgba(60, 64, 67, 0.15);\n",
              "      fill: #174EA6;\n",
              "    }\n",
              "\n",
              "    [theme=dark] .colab-df-convert {\n",
              "      background-color: #3B4455;\n",
              "      fill: #D2E3FC;\n",
              "    }\n",
              "\n",
              "    [theme=dark] .colab-df-convert:hover {\n",
              "      background-color: #434B5C;\n",
              "      box-shadow: 0px 1px 3px 1px rgba(0, 0, 0, 0.15);\n",
              "      filter: drop-shadow(0px 1px 2px rgba(0, 0, 0, 0.3));\n",
              "      fill: #FFFFFF;\n",
              "    }\n",
              "  </style>\n",
              "\n",
              "      <script>\n",
              "        const buttonEl =\n",
              "          document.querySelector('#df-592c731d-c780-498e-9b34-3d49861ea822 button.colab-df-convert');\n",
              "        buttonEl.style.display =\n",
              "          google.colab.kernel.accessAllowed ? 'block' : 'none';\n",
              "\n",
              "        async function convertToInteractive(key) {\n",
              "          const element = document.querySelector('#df-592c731d-c780-498e-9b34-3d49861ea822');\n",
              "          const dataTable =\n",
              "            await google.colab.kernel.invokeFunction('convertToInteractive',\n",
              "                                                     [key], {});\n",
              "          if (!dataTable) return;\n",
              "\n",
              "          const docLinkHtml = 'Like what you see? Visit the ' +\n",
              "            '<a target=\"_blank\" href=https://colab.research.google.com/notebooks/data_table.ipynb>data table notebook</a>'\n",
              "            + ' to learn more about interactive tables.';\n",
              "          element.innerHTML = '';\n",
              "          dataTable['output_type'] = 'display_data';\n",
              "          await google.colab.output.renderOutput(dataTable, element);\n",
              "          const docLink = document.createElement('div');\n",
              "          docLink.innerHTML = docLinkHtml;\n",
              "          element.appendChild(docLink);\n",
              "        }\n",
              "      </script>\n",
              "    </div>\n",
              "  </div>\n",
              "  "
            ],
            "text/plain": [
              "        historia divida garantias     renda     risco\n",
              "0           ruim   alta   nenhuma      0_15      alto\n",
              "1   desconhecida   alta   nenhuma     15_35      alto\n",
              "2   desconhecida  baixa   nenhuma     15_35  moderado\n",
              "3   desconhecida  baixa   nenhuma  acima_35      alto\n",
              "4   desconhecida  baixa   nenhuma  acima_35     baixo\n",
              "5   desconhecida  baixa  adequada  acima_35     baixo\n",
              "6           ruim  baixa   nenhuma      0_15      alto\n",
              "7           ruim  baixa  adequada  acima_35  moderado\n",
              "8            boa  baixa   nenhuma  acima_35     baixo\n",
              "9            boa   alta  adequada  acima_35     baixo\n",
              "10           boa   alta   nenhuma      0_15      alto\n",
              "11           boa   alta   nenhuma     15_35  moderado\n",
              "12           boa   alta   nenhuma  acima_35     baixo\n",
              "13          ruim   alta   nenhuma     15_35      alto"
            ]
          },
          "metadata": {},
          "execution_count": 4
        }
      ]
    },
    {
      "cell_type": "code",
      "source": [
        "# Antes, é necessário fazer o pré-processamento dos dados\n",
        "\n",
        "# Primeiramente, serão criadas variáveis para armazenar, separadamente, \n",
        "#os atributos previsores (variável x), enquanto outra variável \n",
        "#irá armazenar a classe (variável y)\n",
        "\n",
        "\n",
        "x_risco_credito = base_risco_credito.iloc[:,0:4].values\n",
        "\n",
        "\n",
        "# .iloc[:,0:4].values: seleciona os registros em todas as linhas \n",
        "# da coluna 0 até a 4 e converte para o formato numpy array com '.values'\n",
        "\n",
        "x_risco_credito"
      ],
      "metadata": {
        "colab": {
          "base_uri": "https://localhost:8080/"
        },
        "id": "c2LU4Pk66UhW",
        "outputId": "483f8f36-11e2-4469-c3e8-64e3f1fbdc16"
      },
      "execution_count": null,
      "outputs": [
        {
          "output_type": "execute_result",
          "data": {
            "text/plain": [
              "array([['ruim', 'alta', 'nenhuma', '0_15'],\n",
              "       ['desconhecida', 'alta', 'nenhuma', '15_35'],\n",
              "       ['desconhecida', 'baixa', 'nenhuma', '15_35'],\n",
              "       ['desconhecida', 'baixa', 'nenhuma', 'acima_35'],\n",
              "       ['desconhecida', 'baixa', 'nenhuma', 'acima_35'],\n",
              "       ['desconhecida', 'baixa', 'adequada', 'acima_35'],\n",
              "       ['ruim', 'baixa', 'nenhuma', '0_15'],\n",
              "       ['ruim', 'baixa', 'adequada', 'acima_35'],\n",
              "       ['boa', 'baixa', 'nenhuma', 'acima_35'],\n",
              "       ['boa', 'alta', 'adequada', 'acima_35'],\n",
              "       ['boa', 'alta', 'nenhuma', '0_15'],\n",
              "       ['boa', 'alta', 'nenhuma', '15_35'],\n",
              "       ['boa', 'alta', 'nenhuma', 'acima_35'],\n",
              "       ['ruim', 'alta', 'nenhuma', '15_35']], dtype=object)"
            ]
          },
          "metadata": {},
          "execution_count": 6
        }
      ]
    },
    {
      "cell_type": "code",
      "source": [
        "# A criação da variável 'y' segue processo semelhante\n",
        "\n",
        "y_risco_credito = base_risco_credito.iloc[:,4].values\n",
        "y_risco_credito"
      ],
      "metadata": {
        "colab": {
          "base_uri": "https://localhost:8080/"
        },
        "id": "PL1G_aEQ8-bt",
        "outputId": "e4084d9c-2d7e-4e01-fe57-baea32110d63"
      },
      "execution_count": null,
      "outputs": [
        {
          "output_type": "execute_result",
          "data": {
            "text/plain": [
              "array(['alto', 'alto', 'moderado', 'alto', 'baixo', 'baixo', 'alto',\n",
              "       'moderado', 'baixo', 'baixo', 'alto', 'moderado', 'baixo', 'alto'],\n",
              "      dtype=object)"
            ]
          },
          "metadata": {},
          "execution_count": 7
        }
      ]
    },
    {
      "cell_type": "code",
      "source": [
        "# O próximo passo, para evitar o retorno de erros na aplicação de algoritmos, \n",
        "#é converter os dados categóricos em numéricos.\n",
        "# Para tanto, será utilizado o utilitário LabelEncoder da biblioteca scikit-learn.\n",
        "\n",
        "# Após a importação, são criadas variáveis para cada um dos, \n",
        "#até então, atributos categóricos\n",
        "\n",
        "\n",
        "from sklearn.preprocessing import LabelEncoder\n",
        "label_encoder_historia = LabelEncoder()\n",
        "label_encoder_divida = LabelEncoder()\n",
        "label_encoder_garantia = LabelEncoder()\n",
        "label_encoder_renda = LabelEncoder()\n",
        "\n"
      ],
      "metadata": {
        "id": "fUXBk-Gv9gec"
      },
      "execution_count": null,
      "outputs": []
    },
    {
      "cell_type": "code",
      "source": [
        "# Nesse momento, serão aplicados os processamentos\n",
        "\n",
        "# fit: calcula a média e o padrão para serem usados ​​em redimensionamentos futuros\n",
        "\n",
        "# transform: usa uma média e std previamente calculadas para dimensionar automaticamente os dados \n",
        "#(subtrair a média de todos os valores e depois dividi-la por std).\n",
        "\n",
        "# fit_transform: faz as duas coisas ao mesmo tempo. \n",
        "\n",
        "x_risco_credito[:,0] = label_encoder_historia.fit_transform(x_risco_credito[:,0])\n",
        "x_risco_credito[:,1] = label_encoder_divida.fit_transform(x_risco_credito[:,1])\n",
        "x_risco_credito[:,2] = label_encoder_garantia.fit_transform(x_risco_credito[:,2])\n",
        "x_risco_credito[:,3] = label_encoder_renda.fit_transform(x_risco_credito[:,3])"
      ],
      "metadata": {
        "id": "GEICPNSM_k70"
      },
      "execution_count": null,
      "outputs": []
    },
    {
      "cell_type": "code",
      "source": [
        "#Agora, observa-se que os atributos são apenas numéricos\n",
        "\n",
        "x_risco_credito"
      ],
      "metadata": {
        "colab": {
          "base_uri": "https://localhost:8080/"
        },
        "id": "x9p5jsyHCeeC",
        "outputId": "4d048ab8-7bb2-41d2-94e7-d246fd454c67"
      },
      "execution_count": null,
      "outputs": [
        {
          "output_type": "execute_result",
          "data": {
            "text/plain": [
              "array([[2, 0, 1, 0],\n",
              "       [1, 0, 1, 1],\n",
              "       [1, 1, 1, 1],\n",
              "       [1, 1, 1, 2],\n",
              "       [1, 1, 1, 2],\n",
              "       [1, 1, 0, 2],\n",
              "       [2, 1, 1, 0],\n",
              "       [2, 1, 0, 2],\n",
              "       [0, 1, 1, 2],\n",
              "       [0, 0, 0, 2],\n",
              "       [0, 0, 1, 0],\n",
              "       [0, 0, 1, 1],\n",
              "       [0, 0, 1, 2],\n",
              "       [2, 0, 1, 1]], dtype=object)"
            ]
          },
          "metadata": {},
          "execution_count": 10
        }
      ]
    },
    {
      "cell_type": "code",
      "source": [
        "# Para essa base de dados não será utilizado o OneHotEncoder.\n",
        "\n",
        "# One Hot encoding é uma transformação utilizada nos dados\n",
        "#para que variáveis categóricas sejam representadas de \n",
        "#forma binária. Acaba por indicar existência ou não de um valor."
      ],
      "metadata": {
        "colab": {
          "base_uri": "https://localhost:8080/",
          "height": 70
        },
        "id": "GqVPJJwYC3yI",
        "outputId": "30e72db1-c971-4dc0-8702-04d13c9834f2"
      },
      "execution_count": null,
      "outputs": [
        {
          "output_type": "execute_result",
          "data": {
            "application/vnd.google.colaboratory.intrinsic+json": {
              "type": "string"
            },
            "text/plain": [
              "'\\nPara essa base de dados não será utilizado o OneHotEncoder.\\n\\nOne Hot encoding é uma transformação utilizada nos dados\\npara que variáveis categóricas sejam representadas de \\nforma binária. Acaba por indicar existência ou não de um valor.\\n\\n'"
            ]
          },
          "metadata": {},
          "execution_count": 11
        }
      ]
    },
    {
      "cell_type": "code",
      "source": [
        "# Para salvar as variáveis, bases de dados a fim de utilizá-los nos algoritmos:\n",
        "\n",
        "import pickle"
      ],
      "metadata": {
        "id": "Xq9tMfEMEqcX"
      },
      "execution_count": null,
      "outputs": []
    },
    {
      "cell_type": "code",
      "source": [
        "# Definição do nome do arquivo onde será salvo com a devida extensão .pkl\n",
        "# Aplica o comando pickle.dump com as variáveis em forma de lista que serão salvas\n",
        "\n",
        "\n",
        "with open ('risco_credito.pkl', mode = 'wb') as f:\n",
        "  pickle.dump([x_risco_credito, y_risco_credito], f)\n",
        "  "
      ],
      "metadata": {
        "id": "hRv2zwUQEu4J"
      },
      "execution_count": null,
      "outputs": []
    },
    {
      "cell_type": "code",
      "source": [
        "# Será utilizada a classe GaussianNB do pacote Naive Bayes\n",
        "#da biblioteca sklearn com a criação de uma variável \n",
        "#que irá receber o algoritmo GaussianNB.\n",
        "\n",
        "# Para geração da tabela de probabilidades - treinamento -\n",
        "#do algoritmo, será utilizada a função fit com os devidos parâmetros\n",
        "\n",
        "naive_risco_credito = GaussianNB()\n",
        "naive_risco_credito.fit(x_risco_credito, y_risco_credito)"
      ],
      "metadata": {
        "colab": {
          "base_uri": "https://localhost:8080/"
        },
        "id": "g8Iu3oqUF1iW",
        "outputId": "fbd756a9-7c7b-436d-b594-ec7d04a2442d"
      },
      "execution_count": null,
      "outputs": [
        {
          "output_type": "execute_result",
          "data": {
            "text/plain": [
              "GaussianNB()"
            ]
          },
          "metadata": {},
          "execution_count": 17
        }
      ]
    },
    {
      "cell_type": "code",
      "source": [
        "# Com utilização do seguinte histórico, será possível prever\n",
        "#o risco relacionado ao pedido do cliente:\n",
        "\n",
        "#história boa(0), dívida alta(0), garantia nenhuma(1), renda > 35 (2)\n",
        "#história ruim(2), dívida alta(0), garantia adequada(0), renda < 15 (0)\n",
        "\n",
        "# Os valores dentro dos parênteses são o resultado da\n",
        "#conversão de x_risco_credito de categóricos para numéricos\n",
        "\n",
        "# predict é um função que retorna apenas a classe com os devidos parêmetros\n",
        "#de risco informados\n",
        "\n",
        "previsao = naive_risco_credito.predict([[0, 0, 1, 2], [2, 0, 0, 0]])"
      ],
      "metadata": {
        "id": "Gli6c4LiJhib"
      },
      "execution_count": null,
      "outputs": []
    },
    {
      "cell_type": "code",
      "source": [
        "# Por exemplo, um cliente com os seguintes dados históricos, teria risco \n",
        "#de crédito considerado baixo\n",
        "\n",
        "# história boa(0), dívida alta(0), garantia nenhuma(1), renda > 35 (2)\n",
        "\n",
        "previsao = naive_risco_credito.predict([[0, 0, 1, 2]])\n",
        "previsao"
      ],
      "metadata": {
        "colab": {
          "base_uri": "https://localhost:8080/"
        },
        "id": "frWBin2LMpUK",
        "outputId": "f2e3904c-507b-4dfb-a77f-004b7e2c90d6"
      },
      "execution_count": null,
      "outputs": [
        {
          "output_type": "execute_result",
          "data": {
            "text/plain": [
              "array(['baixo'], dtype='<U8')"
            ]
          },
          "metadata": {},
          "execution_count": 20
        }
      ]
    },
    {
      "cell_type": "code",
      "source": [
        "# É possível ainda saber quais são as classes\n",
        "\n",
        "naive_risco_credito.classes_"
      ],
      "metadata": {
        "colab": {
          "base_uri": "https://localhost:8080/"
        },
        "id": "OdW9RUgAN1ks",
        "outputId": "d8e29854-539a-40d8-fe9d-466f0a73bb12"
      },
      "execution_count": null,
      "outputs": [
        {
          "output_type": "execute_result",
          "data": {
            "text/plain": [
              "array(['alto', 'baixo', 'moderado'], dtype='<U8')"
            ]
          },
          "metadata": {},
          "execution_count": 21
        }
      ]
    },
    {
      "cell_type": "code",
      "source": [
        "# E também quantos atributos estão em cada classe\n",
        "\n",
        "naive_risco_credito.class_count_"
      ],
      "metadata": {
        "colab": {
          "base_uri": "https://localhost:8080/"
        },
        "id": "y3yqYZiJOH80",
        "outputId": "89d189fa-eb09-4029-e034-2917f2d257fc"
      },
      "execution_count": null,
      "outputs": [
        {
          "output_type": "execute_result",
          "data": {
            "text/plain": [
              "array([6., 5., 3.])"
            ]
          },
          "metadata": {},
          "execution_count": 23
        }
      ]
    },
    {
      "cell_type": "code",
      "source": [
        "# Bem como a probabilidade apriori, atribuída a um ou mais eventos \n",
        "#independente da realização de um experimento.\n",
        "\n",
        "naive_risco_credito.class_prior_"
      ],
      "metadata": {
        "colab": {
          "base_uri": "https://localhost:8080/"
        },
        "id": "dhC_9-vzOrPW",
        "outputId": "51aaf81c-5010-4203-9f3c-3eb6c3d1286f"
      },
      "execution_count": null,
      "outputs": [
        {
          "output_type": "execute_result",
          "data": {
            "text/plain": [
              "array([0.42857143, 0.35714286, 0.21428571])"
            ]
          },
          "metadata": {},
          "execution_count": 25
        }
      ]
    },
    {
      "cell_type": "markdown",
      "source": [
        "UTILIZAÇÃO DA BASE CREDIT DATA"
      ],
      "metadata": {
        "id": "TrcreV91QHlW"
      }
    },
    {
      "cell_type": "code",
      "source": [
        "# Função 'open' que recebe como primeiro parâmetro \n",
        "#o nome do arquivo e, como segundo parâmetro, \n",
        "#a idicação de que será feita a leitura, 'rb'\n",
        "\n",
        "with open ('credit.pkl', 'rb') as f:\n",
        "   x_credit_treinamento, y_credit_treinamento, x_credit_teste, y_credit_teste = pickle.load(f)"
      ],
      "metadata": {
        "id": "DT7cQXG7QfJu"
      },
      "execution_count": null,
      "outputs": []
    },
    {
      "cell_type": "code",
      "source": [
        "# O treinamento será feito com 1500 registros\n",
        "\n",
        "x_credit_treinamento.shape, y_credit_treinamento.shape"
      ],
      "metadata": {
        "colab": {
          "base_uri": "https://localhost:8080/"
        },
        "id": "Ajj_8oTbSvcP",
        "outputId": "d0466179-ca45-4d3b-a395-c4546724a782"
      },
      "execution_count": null,
      "outputs": [
        {
          "output_type": "execute_result",
          "data": {
            "text/plain": [
              "((1500, 3), (1500,))"
            ]
          },
          "metadata": {},
          "execution_count": 28
        }
      ]
    },
    {
      "cell_type": "code",
      "source": [
        "# O teste será feito com 500 registros\n",
        "\n",
        "x_credit_teste.shape , y_credit_teste.shape"
      ],
      "metadata": {
        "colab": {
          "base_uri": "https://localhost:8080/"
        },
        "id": "Lbs61dz-TGJB",
        "outputId": "32dc3255-debd-4f18-dfca-fb80d3d147b6"
      },
      "execution_count": null,
      "outputs": [
        {
          "output_type": "execute_result",
          "data": {
            "text/plain": [
              "((500, 3), (500,))"
            ]
          },
          "metadata": {},
          "execution_count": 29
        }
      ]
    },
    {
      "cell_type": "code",
      "source": [
        "# Será utilizada a classe GaussianNB do pacote Naive Bayes\n",
        "#da biblioteca sklearn com a criação de uma variável \n",
        "#que irá receber o algoritmo GaussianNB.\n",
        "\n",
        "#Para geração da tabela de probabilidades - treinamento do algoritmo\n",
        "\n",
        "\n",
        "# Na função fit, primeiro passa como parâmetro a variável que representa\n",
        "#os atributos previsores, depois, a variável que indica o atributo esperado\n",
        "\n",
        "\n",
        "naive_credit_data = GaussianNB()\n",
        "naive_credit_data.fit(x_credit_treinamento, y_credit_treinamento)"
      ],
      "metadata": {
        "colab": {
          "base_uri": "https://localhost:8080/"
        },
        "id": "HTJQuxBXTb1l",
        "outputId": "f67b5bfb-08fb-4781-af6e-197659ef9d45"
      },
      "execution_count": null,
      "outputs": [
        {
          "output_type": "execute_result",
          "data": {
            "text/plain": [
              "GaussianNB()"
            ]
          },
          "metadata": {},
          "execution_count": 30
        }
      ]
    },
    {
      "cell_type": "code",
      "source": [
        "# Com o algoritmo já treinado, é possível fazer as previsões dos\n",
        "#registros que não sabemos a quais classes pertencem \n",
        "\n",
        "# Obs: obviamente a base teste servirá de parâmetro\n",
        "\n",
        "previsoes = naive_credit_data.predict(x_credit_teste)"
      ],
      "metadata": {
        "id": "9u9IAVLLUrJE"
      },
      "execution_count": null,
      "outputs": []
    },
    {
      "cell_type": "code",
      "source": [
        "# Respostas do algoritmo\n",
        "\n",
        "previsoes"
      ],
      "metadata": {
        "colab": {
          "base_uri": "https://localhost:8080/"
        },
        "id": "VRRwU8vlV4yf",
        "outputId": "3d0701b2-1e24-4714-963c-74720d8dc2c6"
      },
      "execution_count": null,
      "outputs": [
        {
          "output_type": "execute_result",
          "data": {
            "text/plain": [
              "array([1, 0, 0, 0, 0, 0, 0, 0, 0, 0, 0, 0, 0, 0, 0, 0, 1, 0, 0, 1, 0, 0,\n",
              "       0, 0, 0, 0, 0, 0, 0, 0, 0, 0, 0, 0, 0, 1, 1, 0, 0, 0, 0, 0, 0, 0,\n",
              "       0, 1, 1, 0, 1, 0, 0, 0, 0, 0, 0, 0, 0, 0, 0, 1, 0, 0, 0, 1, 0, 0,\n",
              "       0, 0, 0, 1, 0, 0, 1, 0, 0, 1, 0, 0, 0, 0, 0, 0, 0, 0, 0, 0, 0, 0,\n",
              "       0, 0, 0, 0, 0, 0, 0, 0, 0, 0, 0, 0, 0, 0, 0, 1, 0, 0, 0, 0, 0, 0,\n",
              "       0, 0, 1, 0, 0, 0, 0, 0, 0, 0, 1, 1, 0, 0, 0, 0, 0, 0, 0, 0, 0, 1,\n",
              "       0, 0, 0, 0, 0, 0, 0, 0, 0, 0, 0, 0, 1, 0, 1, 0, 0, 0, 0, 0, 1, 0,\n",
              "       0, 0, 0, 0, 0, 1, 0, 0, 0, 0, 0, 0, 0, 0, 0, 0, 0, 0, 0, 0, 0, 0,\n",
              "       0, 1, 0, 0, 0, 0, 0, 1, 0, 0, 0, 0, 1, 0, 0, 0, 1, 0, 0, 0, 0, 0,\n",
              "       0, 0, 0, 0, 0, 0, 0, 0, 1, 1, 0, 0, 0, 0, 0, 0, 0, 0, 0, 0, 0, 0,\n",
              "       1, 0, 0, 0, 0, 0, 0, 0, 0, 1, 0, 0, 0, 0, 0, 0, 0, 0, 0, 0, 0, 0,\n",
              "       0, 0, 0, 0, 0, 0, 0, 0, 0, 0, 0, 0, 0, 0, 0, 0, 1, 0, 1, 0, 0, 0,\n",
              "       0, 0, 0, 0, 0, 0, 0, 0, 0, 1, 0, 0, 0, 0, 0, 0, 0, 0, 0, 0, 0, 0,\n",
              "       0, 0, 0, 0, 0, 0, 0, 0, 0, 0, 1, 0, 0, 0, 0, 0, 0, 0, 1, 0, 0, 0,\n",
              "       0, 0, 0, 1, 0, 0, 0, 1, 0, 0, 0, 0, 0, 1, 0, 0, 0, 0, 0, 1, 0, 0,\n",
              "       0, 0, 0, 0, 0, 0, 0, 0, 0, 0, 0, 0, 1, 0, 0, 0, 0, 0, 0, 1, 0, 0,\n",
              "       0, 0, 0, 1, 0, 0, 0, 0, 0, 0, 0, 0, 0, 0, 0, 0, 0, 0, 0, 0, 0, 0,\n",
              "       1, 0, 0, 0, 0, 0, 0, 0, 0, 0, 0, 0, 0, 0, 0, 0, 0, 0, 0, 0, 0, 1,\n",
              "       0, 0, 0, 0, 0, 0, 0, 0, 0, 0, 0, 0, 0, 0, 0, 0, 0, 0, 0, 0, 0, 0,\n",
              "       0, 0, 0, 0, 0, 0, 0, 0, 0, 0, 0, 0, 0, 1, 0, 0, 0, 0, 0, 0, 0, 0,\n",
              "       0, 0, 0, 0, 1, 0, 1, 0, 0, 0, 0, 0, 0, 0, 0, 0, 0, 0, 0, 0, 0, 0,\n",
              "       0, 0, 1, 0, 0, 0, 0, 0, 0, 0, 0, 0, 0, 0, 0, 0, 0, 0, 0, 0, 0, 0,\n",
              "       0, 0, 1, 0, 0, 0, 0, 0, 0, 0, 0, 0, 0, 0, 0, 0])"
            ]
          },
          "metadata": {},
          "execution_count": 32
        }
      ]
    },
    {
      "cell_type": "code",
      "source": [
        "# A fim de comparar as previsões com os dados reais\n",
        "#que estão na variável y_credit_teste, será importada \n",
        "#a função accuracy_score do pacote metrics da biblioteca sklearn\n",
        "\n",
        "# Também pode ser gerada uma matriz de confusão,\n",
        "#pois, é uma tabela que permite a visualização do \n",
        "#desempenho de um algoritmo de classificação. \n",
        "\n",
        "# Para retorno de algumas métricas: classification_report\n",
        "\n",
        "from sklearn.metrics import accuracy_score, confusion_matrix, classification_report"
      ],
      "metadata": {
        "id": "StDdYYaSWQaO"
      },
      "execution_count": null,
      "outputs": []
    },
    {
      "cell_type": "code",
      "source": [
        "# A função accuracy_score recebe dois parâmetros. \n",
        "# O primeiro diz respeito ao y_true (são os dados reais),\n",
        "#já o segundo, é o y_pred (são as previsões do algoritmo)\n",
        "\n",
        "# O resultado indicará o valor de acerto da previsão\n",
        "\n",
        "accuracy_score(y_credit_teste, previsoes)"
      ],
      "metadata": {
        "colab": {
          "base_uri": "https://localhost:8080/"
        },
        "id": "uvXBhj6LXkky",
        "outputId": "dcb23bf6-ed7b-48f3-a50a-e4b73e2f74a3"
      },
      "execution_count": null,
      "outputs": [
        {
          "output_type": "execute_result",
          "data": {
            "text/plain": [
              "0.938"
            ]
          },
          "metadata": {},
          "execution_count": 34
        }
      ]
    },
    {
      "cell_type": "code",
      "source": [
        "# A linha 0 [428,  8] indica os clientes que pagam o empréstimo.\n",
        "#Essa linha informa que 428 clientes pagam e foram classificados \n",
        "#da maneira correta. Já 8 clientes que pagam, foram classificados \n",
        "#como clientes que não puderam pagar\n",
        "\n",
        "# Já a linha 1 [23, 41], indica os clientes que não puderam\n",
        "#pagar. Nessa linha, há indicação de 23 clientes que não \n",
        "#puderam pagar, mas foram erroneamente considerados como clientes\n",
        "#que pagam. No entando, 41 clientes não puderam pagar e foram \n",
        "#classificados de acordo com a esta situação. \n",
        "\n",
        "\n",
        "confusion_matrix(y_credit_teste, previsoes)\n"
      ],
      "metadata": {
        "colab": {
          "base_uri": "https://localhost:8080/"
        },
        "id": "I1YX96z1aJqH",
        "outputId": "8e64f1e1-9be7-4173-ca88-18916affebf0"
      },
      "execution_count": null,
      "outputs": [
        {
          "output_type": "execute_result",
          "data": {
            "text/plain": [
              "array([[428,   8],\n",
              "       [ 23,  41]])"
            ]
          },
          "metadata": {},
          "execution_count": 36
        }
      ]
    },
    {
      "cell_type": "code",
      "source": [
        "# Com a biblioteca yellowbrik é possível deixar a visualização mais clara\n",
        "\n",
        "from yellowbrick.classifier import ConfusionMatrix"
      ],
      "metadata": {
        "id": "Y_HYOYV0cUuX"
      },
      "execution_count": null,
      "outputs": []
    },
    {
      "cell_type": "code",
      "source": [
        "# Para isso, cria-se uma variável cm e instância-se \n",
        "#ConfusionMatrix com o nome do algoritmo (naive_credit_data)\n",
        "#É necessário fazer novamente o treinamento, por isso a função fit\n",
        "#com os parâmetros\n",
        "\n",
        "\n",
        "\n",
        "cm = ConfusionMatrix(naive_credit_data)\n",
        "cm.fit(x_credit_treinamento, y_credit_treinamento)\n",
        "cm.score(x_credit_teste, y_credit_teste)\n",
        "\n",
        "\n",
        "# Para analisar a imagem, pode-se relacionar o binários\n",
        "#da vertical(dados reais) com os da horizontal (previsões),\n",
        "#relacioná-los e concluir sobre os erros ou acertos\n",
        "\n",
        "#Assim:\n",
        "\n",
        "# O número 0 da vertical indica clientes que pagaram, já o número\n",
        "#1, também da vertical, indica quem não pode pagar.\n",
        "\n",
        "# Em relação aos números da horizontal, o 0 indica que a\n",
        "#algoritmo previu que o cliente pagou, já o número 1 está relacionado\n",
        "#a previsão de que o cliente não pagou\n",
        "\n",
        "# Como exemplo, 428, está com idicação de 0 na vertical, então, \n",
        "#são as pessoas que realmente pagaram. Enquanto a indicação na vertical\n",
        "#também é 0, ou seja, o algoritmo também previu que pagaram. \n",
        "\n",
        "# Um ponto relevante após a verificação das relações é que, \n",
        "#apesar da previsão indicar 0.938, a maior parte está relacionada \n",
        "#ao valor 428. Ou seja, foi uma boa alternativa para indicar os\n",
        "#clientes que pagam, porém não é a melhor opção para apontar \n",
        "#os clientes que não puderam pagar\n"
      ],
      "metadata": {
        "colab": {
          "base_uri": "https://localhost:8080/",
          "height": 361
        },
        "id": "xvndvu9dc-SD",
        "outputId": "d81c348f-35a7-4993-9884-68e541cc9685"
      },
      "execution_count": null,
      "outputs": [
        {
          "output_type": "execute_result",
          "data": {
            "text/plain": [
              "0.938"
            ]
          },
          "metadata": {},
          "execution_count": 38
        },
        {
          "output_type": "display_data",
          "data": {
            "image/png": "[encoded data removed]",
            "text/plain": [
              "<Figure size 576x396 with 1 Axes>"
            ]
          },
          "metadata": {}
        }
      ]
    },
    {
      "cell_type": "code",
      "source": [
        "# Para retorno de algumas métricas, classification_report\n",
        "#com os parâmetros da realidade em relação as\n",
        "#previsões\n",
        "\n",
        "# Observa-se, na coluna recall, que ococorre identificação \n",
        "#de apenas 64% dos clientes que não pagam. E quando isso \n",
        "#ocorre a precisão é de 84%\n",
        "\n",
        "print(classification_report(y_credit_teste, previsoes))"
      ],
      "metadata": {
        "colab": {
          "base_uri": "https://localhost:8080/"
        },
        "id": "cVnJSGRfiVIo",
        "outputId": "45d8050a-bcb8-4971-a454-2bfb5bb98074"
      },
      "execution_count": null,
      "outputs": [
        {
          "output_type": "stream",
          "name": "stdout",
          "text": [
            "              precision    recall  f1-score   support\n",
            "\n",
            "           0       0.95      0.98      0.97       436\n",
            "           1       0.84      0.64      0.73        64\n",
            "\n",
            "    accuracy                           0.94       500\n",
            "   macro avg       0.89      0.81      0.85       500\n",
            "weighted avg       0.93      0.94      0.93       500\n",
            "\n"
          ]
        }
      ]
    }
  ]
}